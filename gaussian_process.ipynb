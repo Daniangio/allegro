{
 "cells": [
  {
   "cell_type": "code",
   "execution_count": null,
   "metadata": {},
   "outputs": [],
   "source": [
    "import numpy as np\n",
    "import matplotlib.pyplot as plt\n",
    "import seaborn as sns\n",
    "sns.set_style(\n",
    "    style='darkgrid', \n",
    "    rc={'axes.facecolor': '.9', 'grid.color': '.8'}\n",
    ")\n",
    "sns.set_palette(palette='deep')\n",
    "%matplotlib inline\n",
    "plt.rcParams['figure.figsize'] = [12, 6]\n",
    "plt.rcParams['figure.dpi'] = 100"
   ]
  },
  {
   "cell_type": "code",
   "execution_count": null,
   "metadata": {},
   "outputs": [],
   "source": [
    "# Define dimension.\n",
    "d = 1\n",
    "# Number of samples (training set). \n",
    "n = 500\n",
    "\n",
    "x = np.linspace(start=0, stop=1, num=n)\n",
    "\n",
    "def f(x):\n",
    "    f = np.sin((4*np.pi)*x) + np.sin((7*np.pi)*x)\n",
    "    return(f)\n",
    "\n",
    "f_x = f(x)\n",
    "\n",
    "fig, ax = plt.subplots()\n",
    "# Plot function f. \n",
    "sns.lineplot(x=x, y=f_x, color='red', label = 'f(x)', ax=ax)\n",
    "# Plot function components.\n",
    "sns.lineplot(x=x, y=np.sin((4*np.pi)*x), color='orange', label='$\\sin(4 \\pi x)$', alpha=0.3, ax=ax)\n",
    "sns.lineplot(x=x, y=np.sin((7*np.pi)*x), color='purple', label='$\\sin(7 \\pi x)$', alpha=0.3, ax=ax)\n",
    "ax.legend(loc='upper right')\n",
    "ax.set_title(r'Graph of $f(x) = \\sin(4\\pi x) + \\sin(7\\pi x)$');"
   ]
  },
  {
   "cell_type": "code",
   "execution_count": null,
   "metadata": {},
   "outputs": [],
   "source": [
    "# Error standard deviation. \n",
    "sigma_n = 0.4\n",
    "# Errors.\n",
    "epsilon = np.random.normal(loc=0, scale=sigma_n, size=n)\n",
    "# Observed target variable. \n",
    "y = f_x + epsilon"
   ]
  },
  {
   "cell_type": "code",
   "execution_count": null,
   "metadata": {},
   "outputs": [],
   "source": [
    "fig, ax = plt.subplots()\n",
    "# Plot errors. \n",
    "sns.histplot(epsilon, ax=ax)\n",
    "ax.set(title='Error Distribution');"
   ]
  },
  {
   "cell_type": "code",
   "execution_count": null,
   "metadata": {},
   "outputs": [],
   "source": [
    "fig, ax = plt.subplots()\n",
    "# Plot training data.\n",
    "sns.scatterplot(x=x, y=y, label='training data', ax=ax)\n",
    "# Plot \"true\" linear fit.\n",
    "sns.lineplot(x=x, y=f_x, color='red', label='f(x)', ax=ax)\n",
    "\n",
    "ax.set(title='Sample Data')\n",
    "ax.legend(loc='upper right')"
   ]
  },
  {
   "cell_type": "code",
   "execution_count": null,
   "metadata": {},
   "outputs": [],
   "source": [
    "n_star = 100\n",
    "\n",
    "x_star = np.linspace(start=0, stop=2, num=n_star)"
   ]
  },
  {
   "cell_type": "code",
   "execution_count": null,
   "metadata": {},
   "outputs": [],
   "source": [
    "def kernel_function(x, y, sigma_f=1, l=1):\n",
    "    \"\"\"Define squared exponential kernel function.\"\"\"\n",
    "    kernel = sigma_f * np.exp(- (np.linalg.norm(x - y)**2) / (2 * l**2))\n",
    "    return kernel"
   ]
  },
  {
   "cell_type": "code",
   "execution_count": null,
   "metadata": {},
   "outputs": [],
   "source": [
    "l = 1\n",
    "sigma_f = 2"
   ]
  },
  {
   "cell_type": "code",
   "execution_count": null,
   "metadata": {},
   "outputs": [],
   "source": [
    "import itertools\n",
    "\n",
    "def compute_cov_matrices(x, x_star, sigma_f=1, l=1):\n",
    "    \"\"\"\n",
    "    Compute components of the covariance matrix of the joint distribution.\n",
    "    \n",
    "    We follow the notation:\n",
    "    \n",
    "        - K = K(X, X) \n",
    "        - K_star = K(X_*, X)\n",
    "        - K_star2 = K(X_*, X_*)\n",
    "    \"\"\"\n",
    "    n = x.shape[0]\n",
    "    n_star = x_star.shape[0]\n",
    "\n",
    "    K = [kernel_function(i, j, sigma_f=sigma_f, l=l) for (i, j) in itertools.product(x, x)]\n",
    "\n",
    "    K = np.array(K).reshape(n, n)\n",
    "    \n",
    "    K_star2 = [kernel_function(i, j, sigma_f=sigma_f, l=l) for (i, j) in itertools.product(x_star, x_star)]\n",
    "\n",
    "    K_star2 = np.array(K_star2).reshape(n_star, n_star)\n",
    "    \n",
    "    K_star = [kernel_function(i, j, sigma_f=sigma_f, l=l) for (i, j) in itertools.product(x_star, x)]\n",
    "\n",
    "    K_star = np.array(K_star).reshape(n_star, n)\n",
    "    \n",
    "    return (K, K_star2, K_star)"
   ]
  },
  {
   "cell_type": "code",
   "execution_count": null,
   "metadata": {},
   "outputs": [],
   "source": [
    "K, K_star2, K_star = compute_cov_matrices(x, x_star, sigma_f=sigma_f, l=l)"
   ]
  },
  {
   "cell_type": "code",
   "execution_count": null,
   "metadata": {},
   "outputs": [],
   "source": [
    "a = np.concatenate((K + (sigma_n**2)*np.eye(n), K_star), axis=0)\n",
    "b = np.concatenate((K_star.T, K_star2), axis=0)\n",
    "C = np.concatenate((a, b), axis=1)\n",
    "C.shape"
   ]
  },
  {
   "cell_type": "code",
   "execution_count": null,
   "metadata": {},
   "outputs": [],
   "source": [
    "np.all(C.T == C)"
   ]
  },
  {
   "cell_type": "code",
   "execution_count": null,
   "metadata": {},
   "outputs": [],
   "source": [
    "fig, ax = plt.subplots(figsize=(10, 8))\n",
    "sns.heatmap(data=C, cmap='Blues', ax=ax)\n",
    "ax.set(title='Components of the Covariance Matrix C')"
   ]
  },
  {
   "cell_type": "code",
   "execution_count": null,
   "metadata": {},
   "outputs": [],
   "source": [
    "fig, ax = plt.subplots()\n",
    "\n",
    "for i in range(0, 100):\n",
    "    # Sample from prior distribution.\n",
    "    z_star = np.random.multivariate_normal(mean=np.zeros(n_star), cov=K_star2)\n",
    "    # Plot function.\n",
    "    sns.lineplot(x=x_star, y=z_star, color='blue', alpha=0.2, ax=ax)\n",
    "    \n",
    "# Plot \"true\" linear fit.\n",
    "sns.lineplot(x=x, y=f_x, color='red', label='f(x)', ax=ax)\n",
    "ax.set(title='Samples of Prior Distribution')\n",
    "ax.legend(loc='lower right')"
   ]
  },
  {
   "cell_type": "code",
   "execution_count": null,
   "metadata": {},
   "outputs": [],
   "source": [
    "def compute_gpr_parameters(K, K_star2, K_star, sigma_n):\n",
    "    \"\"\"Compute gaussian regression parameters.\"\"\"\n",
    "    n = K.shape[0]\n",
    "    # Mean.\n",
    "    f_bar_star = np.dot(K_star, np.dot(np.linalg.inv(K + (sigma_n**2)*np.eye(n)), y.reshape([n, d])))\n",
    "    # Covariance.\n",
    "    cov_f_star = K_star2 - np.dot(K_star, np.dot(np.linalg.inv(K + (sigma_n**2)*np.eye(n)), K_star.T))\n",
    "    \n",
    "    return (f_bar_star, cov_f_star)"
   ]
  },
  {
   "cell_type": "code",
   "execution_count": null,
   "metadata": {},
   "outputs": [],
   "source": [
    "f_bar_star, cov_f_star = compute_gpr_parameters(K, K_star2, K_star, sigma_n)"
   ]
  },
  {
   "cell_type": "code",
   "execution_count": null,
   "metadata": {},
   "outputs": [],
   "source": [
    "fig, ax = plt.subplots(figsize=(10, 8))\n",
    "sns.heatmap(data=cov_f_star, cmap='Blues', ax=ax)\n",
    "ax.set_title('Components of the Covariance Matrix cov_f_star');"
   ]
  },
  {
   "cell_type": "code",
   "execution_count": null,
   "metadata": {},
   "outputs": [],
   "source": [
    "fig, ax = plt.subplots()\n",
    "\n",
    "for i in range(0, 100):\n",
    "    # Sample from posterior distribution. \n",
    "    z_star = np.random.multivariate_normal(mean=f_bar_star.squeeze(), cov=cov_f_star)\n",
    "    # Plot function.\n",
    "    sns.lineplot(x=x_star, y=z_star, color=\"blue\", alpha=0.2, ax=ax)\n",
    "    \n",
    "# Plot \"true\" linear fit.\n",
    "sns.lineplot(x=x, y=f_x, color='red', label = 'f(x)', ax=ax)\n",
    "ax.set(title=f'Samples of Posterior Distribution, sigma_f = {sigma_f} and l = {l}')\n",
    "ax.legend(loc='upper right')"
   ]
  },
  {
   "cell_type": "code",
   "execution_count": null,
   "metadata": {},
   "outputs": [],
   "source": []
  }
 ],
 "metadata": {
  "kernelspec": {
   "display_name": "fesnet",
   "language": "python",
   "name": "python3"
  },
  "language_info": {
   "codemirror_mode": {
    "name": "ipython",
    "version": 3
   },
   "file_extension": ".py",
   "mimetype": "text/x-python",
   "name": "python",
   "nbconvert_exporter": "python",
   "pygments_lexer": "ipython3",
   "version": "3.10.8"
  },
  "orig_nbformat": 4
 },
 "nbformat": 4,
 "nbformat_minor": 2
}
