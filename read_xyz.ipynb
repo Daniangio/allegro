{
 "cells": [
  {
   "cell_type": "code",
   "execution_count": null,
   "metadata": {},
   "outputs": [],
   "source": [
    "import os\n",
    "import ase.io\n",
    "from typing import Optional, List\n",
    "\n",
    "import numpy as np\n",
    "from matplotlib import pyplot as plt\n",
    "import MDAnalysis as mda\n",
    "\n",
    "from plotly.subplots import make_subplots\n",
    "import plotly.graph_objects as go\n",
    "import plotly.figure_factory as ff"
   ]
  },
  {
   "cell_type": "code",
   "execution_count": null,
   "metadata": {},
   "outputs": [],
   "source": [
    "root = \"results/md17/mace-salicylic-50k-exp1\""
   ]
  },
  {
   "cell_type": "code",
   "execution_count": null,
   "metadata": {},
   "outputs": [],
   "source": [
    "### Load all test results from folder ###\n",
    "#########################################\n",
    "\n",
    "test_systems_data = []\n",
    "for filename in os.listdir(root):\n",
    "    if not filename.startswith(\"ds_\"):\n",
    "        continue\n",
    "    if not filename.endswith(\"_target.xyz\"):\n",
    "        continue\n",
    "    pred_frames = ase.io.read(os.path.join(root, filename[:-11] + \".xyz\"), index=\":\", format=\"extxyz\")\n",
    "    target_frames = ase.io.read(os.path.join(root, filename), index=\":\", format=\"extxyz\")\n",
    "    name = filename.split('__')[1]\n",
    "    system_data = []\n",
    "    for pred, target in zip(pred_frames, target_frames):\n",
    "        frame_data = {\n",
    "        'name': name,\n",
    "        'coords': pred.arrays['positions'],\n",
    "        'atom_types': pred.arrays['numbers'],\n",
    "        'forces_pred': pred.arrays['forces'],\n",
    "        'forces_target': target.arrays['forces'],\n",
    "        'energies_pred': pred.info[\"energy\"],\n",
    "        'energies_target': target.info[\"energy\"],\n",
    "        }\n",
    "        system_data.append(frame_data)\n",
    "    if len(system_data) == 0:\n",
    "        frame_data = {\n",
    "            'name': name,\n",
    "        }\n",
    "        system_data.append(frame_data)\n",
    "    test_systems_data.append(system_data)"
   ]
  },
  {
   "cell_type": "code",
   "execution_count": null,
   "metadata": {},
   "outputs": [],
   "source": [
    "forces_means = []\n",
    "energies_means = []\n",
    "for data in test_systems_data[0]:\n",
    "    forces_means.append(np.abs(data['forces_pred'] - data['forces_target']).mean())\n",
    "    energies_means.append(np.abs(data['energies_pred'] - data['energies_target']).mean())\n",
    "forces_means = np.array(forces_means)\n",
    "energies_means = np.array(energies_means)"
   ]
  },
  {
   "cell_type": "code",
   "execution_count": null,
   "metadata": {},
   "outputs": [],
   "source": [
    "fm = forces_means.mean()\n",
    "em = energies_means.mean()\n",
    "\n",
    "fm, em, fm * 43, em * 43 # kcal/mol | meV"
   ]
  },
  {
   "cell_type": "code",
   "execution_count": null,
   "metadata": {},
   "outputs": [],
   "source": []
  }
 ],
 "metadata": {
  "kernelspec": {
   "display_name": "fesnet",
   "language": "python",
   "name": "python3"
  },
  "language_info": {
   "codemirror_mode": {
    "name": "ipython",
    "version": 3
   },
   "file_extension": ".py",
   "mimetype": "text/x-python",
   "name": "python",
   "nbconvert_exporter": "python",
   "pygments_lexer": "ipython3",
   "version": "3.10.8"
  },
  "orig_nbformat": 4,
  "vscode": {
   "interpreter": {
    "hash": "ca9e2a6af6419efc540817a9c6395cd18888e5c78e4e3cf3ecae7271347bc504"
   }
  }
 },
 "nbformat": 4,
 "nbformat_minor": 2
}
