{
 "cells": [
  {
   "cell_type": "code",
   "execution_count": 1,
   "metadata": {},
   "outputs": [
    {
     "name": "stderr",
     "output_type": "stream",
     "text": [
      "/home/angiod@usi.ch/anaconda3/envs/fesnet/lib/python3.10/site-packages/tqdm/auto.py:22: TqdmWarning: IProgress not found. Please update jupyter and ipywidgets. See https://ipywidgets.readthedocs.io/en/stable/user_install.html\n",
      "  from .autonotebook import tqdm as notebook_tqdm\n"
     ]
    }
   ],
   "source": [
    "import os\n",
    "import ase.io\n",
    "from typing import Optional, List\n",
    "\n",
    "import numpy as np\n",
    "from matplotlib import pyplot as plt\n",
    "import MDAnalysis as mda\n",
    "\n",
    "from plotly.subplots import make_subplots\n",
    "import plotly.graph_objects as go\n",
    "import plotly.figure_factory as ff"
   ]
  },
  {
   "cell_type": "code",
   "execution_count": 2,
   "metadata": {},
   "outputs": [],
   "source": [
    "root = \"results/nmr-bmrb-temp-298-ph-6.5/debug\""
   ]
  },
  {
   "cell_type": "code",
   "execution_count": 12,
   "metadata": {},
   "outputs": [],
   "source": [
    "### Load all test results from folder ###\n",
    "#########################################\n",
    "\n",
    "test_systems_data = []\n",
    "for filename in os.listdir(root):\n",
    "    if not filename.startswith(\"ds_\"):\n",
    "        continue\n",
    "    if not filename.endswith(\"_target.xyz\"):\n",
    "        continue\n",
    "    pred_frames = ase.io.read(os.path.join(root, filename[:-11] + \".xyz\"), index=\":\", format=\"extxyz\")\n",
    "    target_frames = ase.io.read(os.path.join(root, filename), index=\":\", format=\"extxyz\")\n",
    "    name = filename.split('__')[1]\n",
    "    system_data = []\n",
    "    for pred, target in zip(pred_frames, target_frames):\n",
    "        try:\n",
    "            type = 'forces'\n",
    "            frame_data = {\n",
    "            'name': name,\n",
    "            'coords': pred.arrays['positions'],\n",
    "            'atom_types': pred.arrays['numbers'],\n",
    "            'forces_pred': pred.arrays['forces'],\n",
    "            'forces_target': target.arrays['forces'],\n",
    "            'energies_pred': pred.info[\"energy\"],\n",
    "            'energies_target': target.info[\"energy\"],\n",
    "            }\n",
    "        except KeyError:\n",
    "            type = 'nmr'\n",
    "            frame_data = {\n",
    "            'name': name,\n",
    "            'coords': pred.arrays['positions'],\n",
    "            'atom_types': pred.arrays['numbers'],\n",
    "            'energies_pred': pred.arrays[\"energies\"],\n",
    "            'energies_target': target.arrays[\"energies\"],\n",
    "            }\n",
    "        system_data.append(frame_data)\n",
    "    if len(system_data) == 0:\n",
    "        frame_data = {\n",
    "            'name': name,\n",
    "        }\n",
    "        system_data.append(frame_data)\n",
    "    test_systems_data.append(system_data)"
   ]
  },
  {
   "cell_type": "code",
   "execution_count": 8,
   "metadata": {},
   "outputs": [],
   "source": [
    "if type == 'forces':\n",
    "    forces_means = []\n",
    "    energies_means = []\n",
    "    for data in test_systems_data[0]:\n",
    "        forces_means.append(np.abs(data['forces_pred'] - data['forces_target']).mean())\n",
    "        energies_means.append(np.abs(data['energies_pred'] - data['energies_target']).mean())\n",
    "    forces_means = np.array(forces_means)\n",
    "    energies_means = np.array(energies_means)\n",
    "\n",
    "    fm = forces_means.mean()\n",
    "    em = energies_means.mean()\n",
    "\n",
    "    print(fm, em, fm * 43, em * 43) # kcal/mol | meV"
   ]
  },
  {
   "cell_type": "code",
   "execution_count": 9,
   "metadata": {},
   "outputs": [],
   "source": [
    "if type == 'forces':\n",
    "    x = []\n",
    "    for data in test_systems_data[0]:\n",
    "        x.append((data['forces_pred'] - data['forces_target']))\n",
    "    x = np.array(x)"
   ]
  },
  {
   "cell_type": "code",
   "execution_count": 47,
   "metadata": {},
   "outputs": [
    {
     "name": "stderr",
     "output_type": "stream",
     "text": [
      "/tmp/ipykernel_3893835/3993900729.py:8: RuntimeWarning: Mean of empty slice\n",
      "  cs_means.append(np.nanmean(np.abs(data['energies_pred'][at_fltr] - data['energies_target'][at_fltr])))\n"
     ]
    }
   ],
   "source": [
    "if type == 'nmr':\n",
    "    evaluation_id = -1\n",
    "    at_cs_means = {}\n",
    "    for at in np.unique(test_systems_data[evaluation_id][0]['atom_types']):\n",
    "        cs_means = []\n",
    "        for data in test_systems_data[evaluation_id]:\n",
    "            at_fltr = data['atom_types'] == at\n",
    "            cs_means.append(np.nanmean(np.abs(data['energies_pred'][at_fltr] - data['energies_target'][at_fltr])))\n",
    "        cs_means = np.array(cs_means)\n",
    "        at_cs_means[at.item()] = cs_means"
   ]
  },
  {
   "cell_type": "code",
   "execution_count": 48,
   "metadata": {},
   "outputs": [
    {
     "data": {
      "text/plain": [
       "{1: array([0.09339439, 0.11746112, 0.0910616 , 0.09211984, 0.1076199 ,\n",
       "        0.09187434]),\n",
       " 6: array([0.20412947, 0.20027313, 0.2346516 , 0.19601963, 0.18239738,\n",
       "        0.27278088]),\n",
       " 7: array([0.34060669, 0.29927698, 0.30400213, 0.26960246, 0.33724594,\n",
       "        0.34420268]),\n",
       " 8: array([nan, nan, nan, nan, nan, nan]),\n",
       " 16: array([nan, nan, nan, nan, nan, nan])}"
      ]
     },
     "execution_count": 48,
     "metadata": {},
     "output_type": "execute_result"
    }
   ],
   "source": [
    "at_cs_means"
   ]
  }
 ],
 "metadata": {
  "kernelspec": {
   "display_name": "fesnet",
   "language": "python",
   "name": "python3"
  },
  "language_info": {
   "codemirror_mode": {
    "name": "ipython",
    "version": 3
   },
   "file_extension": ".py",
   "mimetype": "text/x-python",
   "name": "python",
   "nbconvert_exporter": "python",
   "pygments_lexer": "ipython3",
   "version": "3.10.8"
  },
  "orig_nbformat": 4,
  "vscode": {
   "interpreter": {
    "hash": "ca9e2a6af6419efc540817a9c6395cd18888e5c78e4e3cf3ecae7271347bc504"
   }
  }
 },
 "nbformat": 4,
 "nbformat_minor": 2
}
